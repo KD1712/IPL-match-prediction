{
 "cells": [
  {
   "cell_type": "code",
   "execution_count": 62,
   "metadata": {},
   "outputs": [],
   "source": [
    "import pandas as pd\n",
    "import numpy as np \n",
    "\n",
    "\n",
    "df = pd.read_csv('matches2.csv')"
   ]
  },
  {
   "cell_type": "code",
   "execution_count": 63,
   "metadata": {},
   "outputs": [],
   "source": [
    "new_df = df[['team1', 'team2', 'winner', 'toss_decision', 'toss_winner']]"
   ]
  },
  {
   "cell_type": "code",
   "execution_count": 64,
   "metadata": {},
   "outputs": [
    {
     "name": "stderr",
     "output_type": "stream",
     "text": [
      "C:\\Users\\KD\\AppData\\Local\\Temp\\ipykernel_8376\\862249462.py:1: SettingWithCopyWarning: \n",
      "A value is trying to be set on a copy of a slice from a DataFrame\n",
      "\n",
      "See the caveats in the documentation: https://pandas.pydata.org/pandas-docs/stable/user_guide/indexing.html#returning-a-view-versus-a-copy\n",
      "  new_df.dropna(inplace=True)\n"
     ]
    }
   ],
   "source": [
    "new_df.dropna(inplace=True)\n",
    "#drop Nan values\n",
    "#returns new DataFrame object the inplace parameter is not set to True"
   ]
  },
  {
   "cell_type": "code",
   "execution_count": 65,
   "metadata": {},
   "outputs": [],
   "source": [
    "X = new_df[['team1', 'team2', 'toss_decision', 'toss_winner']]\n",
    "y = new_df[['winner']]"
   ]
  },
  {
   "cell_type": "code",
   "execution_count": 66,
   "metadata": {},
   "outputs": [
    {
     "name": "stdout",
     "output_type": "stream",
     "text": [
      "{'Sunrisers Hyderabad': 0, 'Royal Challengers Bangalore': 1, 'Mumbai Indians': 2, 'Rising Pune Supergiant': 3, 'Gujarat Lions': 4, 'Kolkata Knight Riders': 5, 'Kings XI Punjab': 6, 'Delhi Daredevils': 7, 'Chennai Super Kings': 8, 'Rajasthan Royals': 9, 'Deccan Chargers': 10, 'Kochi Tuskers Kerala': 11, 'Pune Warriors': 12, 'Rising Pune Supergiants': 13, 'Delhi Capitals': 14}\n"
     ]
    }
   ],
   "source": [
    "all_teams = {}\n",
    "cnt = 0\n",
    "for i in range(len(df)):\n",
    "    if df.loc[i]['team1'] not in all_teams:\n",
    "        all_teams[df.loc[i]['team1']] = cnt\n",
    "        cnt += 1    \n",
    "        \n",
    "    if df.loc[i]['team2'] not in all_teams:\n",
    "        all_teams[df.loc[i]['team2']] = cnt\n",
    "        cnt += 1\n",
    "print(all_teams)"
   ]
  },
  {
   "cell_type": "code",
   "execution_count": 67,
   "metadata": {},
   "outputs": [],
   "source": [
    "encoded_teams = {w:k for k,w in all_teams.items()}"
   ]
  },
  {
   "cell_type": "code",
   "execution_count": 68,
   "metadata": {},
   "outputs": [
    {
     "name": "stdout",
     "output_type": "stream",
     "text": [
      "[[0 1 'field' 1]\n",
      " [2 3 'field' 3]\n",
      " [4 5 'field' 5]\n",
      " ...\n",
      " [0 14 'field' 14]\n",
      " [14 8 'field' 8]\n",
      " [2 8 'bat' 2]]\n"
     ]
    }
   ],
   "source": [
    "X = np.array(X)\n",
    "y = np.array(y)\n",
    "\n",
    "for i in range(len(X)):\n",
    "    X[i][0] = all_teams[X[i][0]]\n",
    "    X[i][1] = all_teams[X[i][1]]\n",
    "    X[i][3] = all_teams[X[i][3]]\n",
    "\n",
    "    y[i][0] = all_teams[y[i][0]]\n",
    "\n",
    "print(X)\n",
    "\n"
   ]
  },
  {
   "cell_type": "code",
   "execution_count": 69,
   "metadata": {},
   "outputs": [
    {
     "name": "stdout",
     "output_type": "stream",
     "text": [
      "{'field': 0, 'bat': 1}\n"
     ]
    }
   ],
   "source": [
    "fb = {'field':0, 'bat':1}\n",
    "\n",
    "for i in range (len(X)):\n",
    "    X[i][2] = fb[X[i][2]]\n",
    "\n",
    "print(fb)"
   ]
  },
  {
   "cell_type": "code",
   "execution_count": 70,
   "metadata": {},
   "outputs": [
    {
     "name": "stdout",
     "output_type": "stream",
     "text": [
      "['team1', 'team2', 'toss_decision', 'toss_winner']\n",
      "[[0 1 0 1]\n",
      " [2 3 0 1]\n",
      " [4 5 0 1]\n",
      " ...\n",
      " [0 14 0 1]\n",
      " [14 8 0 1]\n",
      " [2 8 1 0]]\n"
     ]
    }
   ],
   "source": [
    "for i in range(len(X)):\n",
    "    if X[i][3] == X[i][0]:\n",
    "        X[i][3] = 0\n",
    "    else :\n",
    "        X[i][3] = 1\n",
    "\n",
    "print(['team1', 'team2', 'toss_decision', 'toss_winner'])\n",
    "print(X)\n"
   ]
  },
  {
   "cell_type": "code",
   "execution_count": 71,
   "metadata": {},
   "outputs": [
    {
     "name": "stdout",
     "output_type": "stream",
     "text": [
      "[[0]\n",
      " [1]\n",
      " [1]\n",
      " ...\n",
      " [0]\n",
      " [0]\n",
      " [0]]\n"
     ]
    }
   ],
   "source": [
    "ones = 0\n",
    "for i in range(len(y)):\n",
    "    if y[i][0] == X[i][1] :\n",
    "        if ones <= 370:\n",
    "            ones += 1\n",
    "            y[i][0] = 1\n",
    "        else:\n",
    "            t = X[i][0]\n",
    "            X[i][0] = X[i][1] \n",
    "            X[i][1] = t\n",
    "\n",
    "            y[i][0] = 0\n",
    "    else :\n",
    "        y[i][0] = 0\n",
    "\n",
    "print(y)"
   ]
  },
  {
   "cell_type": "code",
   "execution_count": 72,
   "metadata": {},
   "outputs": [
    {
     "name": "stdout",
     "output_type": "stream",
     "text": [
      "(array([0, 1]), array([1133,  371], dtype=int64))\n"
     ]
    }
   ],
   "source": [
    "X = np.array(X, dtype='int32')\n",
    "y = np.array(y, dtype='int32')\n",
    "\n",
    "y = y.ravel()\n",
    "\n",
    "print(np.unique(y, return_counts = True))\n"
   ]
  },
  {
   "cell_type": "code",
   "execution_count": 73,
   "metadata": {},
   "outputs": [],
   "source": [
    "from sklearn.model_selection import train_test_split\n",
    "X_train, X_test, y_train,y_test = train_test_split(X, y, test_size=0.1)"
   ]
  },
  {
   "cell_type": "code",
   "execution_count": 74,
   "metadata": {},
   "outputs": [
    {
     "data": {
      "text/plain": [
       "0.7483443708609272"
      ]
     },
     "execution_count": 74,
     "metadata": {},
     "output_type": "execute_result"
    }
   ],
   "source": [
    "\n",
    "from sklearn.svm import SVC\n",
    "model1 = SVC().fit(X_train, y_train)\n",
    "model1.score(X_test, y_test)\n",
    "\n",
    "\n",
    "\n"
   ]
  },
  {
   "cell_type": "code",
   "execution_count": 79,
   "metadata": {},
   "outputs": [
    {
     "data": {
      "text/plain": [
       "0.695364238410596"
      ]
     },
     "execution_count": 79,
     "metadata": {},
     "output_type": "execute_result"
    }
   ],
   "source": [
    "from sklearn.tree import DecisionTreeClassifier\n",
    "model2 = DecisionTreeClassifier().fit(X_train, y_train)\n",
    "model2.score(X_test, y_test)"
   ]
  },
  {
   "cell_type": "code",
   "execution_count": 76,
   "metadata": {},
   "outputs": [
    {
     "data": {
      "text/plain": [
       "0.7615894039735099"
      ]
     },
     "execution_count": 76,
     "metadata": {},
     "output_type": "execute_result"
    }
   ],
   "source": [
    "from sklearn.ensemble import RandomForestClassifier\n",
    "model3 = RandomForestClassifier(n_estimators=250).fit(X, y)\n",
    "model3.score(X_test, y_test)"
   ]
  },
  {
   "cell_type": "code",
   "execution_count": 77,
   "metadata": {},
   "outputs": [
    {
     "data": {
      "text/plain": [
       "array([0])"
      ]
     },
     "execution_count": 77,
     "metadata": {},
     "output_type": "execute_result"
    }
   ],
   "source": [
    "test = np.array([1,2, 0, 0]).reshape(1,-1)\n",
    "model1.predict(test)\n",
    "model2.predict(test)\n",
    "model3.predict(test)\n"
   ]
  },
  {
   "cell_type": "code",
   "execution_count": 78,
   "metadata": {},
   "outputs": [],
   "source": [
    "import pickle as pkl\n",
    "\n",
    "with open('model.pkl', 'wb') as f:\n",
    "    pkl.dump(model3, f)\n",
    "\n",
    "with open('vocak.pkl', 'wb') as f:\n",
    "    pkl.dump(encoded_teams, f)\n",
    "\n",
    "with open('inv_vocab.pkl', 'wb') as f:\n",
    "    pkl.dump(all_teams, f)"
   ]
  }
 ],
 "metadata": {
  "kernelspec": {
   "display_name": "Python 3.10.2 64-bit",
   "language": "python",
   "name": "python3"
  },
  "language_info": {
   "codemirror_mode": {
    "name": "ipython",
    "version": 3
   },
   "file_extension": ".py",
   "mimetype": "text/x-python",
   "name": "python",
   "nbconvert_exporter": "python",
   "pygments_lexer": "ipython3",
   "version": "3.10.2"
  },
  "orig_nbformat": 4,
  "vscode": {
   "interpreter": {
    "hash": "0637dabcafe78c26ecb06f1d7bd4ad6b10f30890c45624e21106886b49e792fd"
   }
  }
 },
 "nbformat": 4,
 "nbformat_minor": 2
}
